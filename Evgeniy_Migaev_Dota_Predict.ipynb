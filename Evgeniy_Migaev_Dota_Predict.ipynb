{
 "cells": [
  {
   "cell_type": "code",
   "execution_count": 230,
   "metadata": {
    "collapsed": true
   },
   "outputs": [],
   "source": [
    "import pandas as pd\n",
    "import numpy as np\n",
    "import json\n",
    "import bz2\n",
    "import time\n",
    "import datetime\n",
    "from sklearn.cross_validation import KFold\n",
    "from sklearn.ensemble import GradientBoostingClassifier\n",
    "from sklearn.linear_model import LogisticRegression\n",
    "from sklearn.cross_validation import cross_val_score, train_test_split\n",
    "from sklearn.metrics import r2_score, roc_curve, auc\n",
    "from sklearn.preprocessing import StandardScaler"
   ]
  },
  {
   "cell_type": "markdown",
   "metadata": {},
   "source": [
    "# считываем данные"
   ]
  },
  {
   "cell_type": "code",
   "execution_count": 231,
   "metadata": {
    "collapsed": true
   },
   "outputs": [],
   "source": [
    "df = pd.read_csv('features.csv')\n",
    "dftest = pd.read_csv('features_test.csv') \n",
    "\n",
    "abilities = pd.read_csv('data/dictionaries/abilities.csv')\n",
    "heroes = pd.read_csv('data/dictionaries/heroes.csv')\n",
    "items = pd.read_csv('data/dictionaries/items.csv')\n",
    "lobbies = pd.read_csv('data/dictionaries/lobbies.csv')\n",
    "mods = pd.read_csv('data/dictionaries/mods.csv')\n",
    "regions = pd.read_csv('data/dictionaries/regions.csv')\n",
    "\n",
    "sample = pd.read_csv('data/sample_submission.csv')"
   ]
  },
  {
   "cell_type": "markdown",
   "metadata": {},
   "source": [
    "# выбираем столбцы с пропущенными значениями"
   ]
  },
  {
   "cell_type": "code",
   "execution_count": 262,
   "metadata": {
    "collapsed": false
   },
   "outputs": [
    {
     "data": {
      "text/html": [
       "<div>\n",
       "<table border=\"1\" class=\"dataframe\">\n",
       "  <thead>\n",
       "    <tr style=\"text-align: right;\">\n",
       "      <th></th>\n",
       "      <th>cnt</th>\n",
       "    </tr>\n",
       "  </thead>\n",
       "  <tbody>\n",
       "    <tr>\n",
       "      <th>first_blood_time</th>\n",
       "      <td>77677</td>\n",
       "    </tr>\n",
       "    <tr>\n",
       "      <th>first_blood_team</th>\n",
       "      <td>77677</td>\n",
       "    </tr>\n",
       "    <tr>\n",
       "      <th>first_blood_player1</th>\n",
       "      <td>77677</td>\n",
       "    </tr>\n",
       "    <tr>\n",
       "      <th>first_blood_player2</th>\n",
       "      <td>53243</td>\n",
       "    </tr>\n",
       "    <tr>\n",
       "      <th>radiant_bottle_time</th>\n",
       "      <td>81539</td>\n",
       "    </tr>\n",
       "    <tr>\n",
       "      <th>radiant_courier_time</th>\n",
       "      <td>96538</td>\n",
       "    </tr>\n",
       "    <tr>\n",
       "      <th>radiant_flying_courier_time</th>\n",
       "      <td>69751</td>\n",
       "    </tr>\n",
       "    <tr>\n",
       "      <th>radiant_first_ward_time</th>\n",
       "      <td>95394</td>\n",
       "    </tr>\n",
       "    <tr>\n",
       "      <th>dire_bottle_time</th>\n",
       "      <td>81087</td>\n",
       "    </tr>\n",
       "    <tr>\n",
       "      <th>dire_courier_time</th>\n",
       "      <td>96554</td>\n",
       "    </tr>\n",
       "    <tr>\n",
       "      <th>dire_flying_courier_time</th>\n",
       "      <td>71132</td>\n",
       "    </tr>\n",
       "    <tr>\n",
       "      <th>dire_first_ward_time</th>\n",
       "      <td>95404</td>\n",
       "    </tr>\n",
       "  </tbody>\n",
       "</table>\n",
       "</div>"
      ],
      "text/plain": [
       "                               cnt\n",
       "first_blood_time             77677\n",
       "first_blood_team             77677\n",
       "first_blood_player1          77677\n",
       "first_blood_player2          53243\n",
       "radiant_bottle_time          81539\n",
       "radiant_courier_time         96538\n",
       "radiant_flying_courier_time  69751\n",
       "radiant_first_ward_time      95394\n",
       "dire_bottle_time             81087\n",
       "dire_courier_time            96554\n",
       "dire_flying_courier_time     71132\n",
       "dire_first_ward_time         95404"
      ]
     },
     "execution_count": 262,
     "metadata": {},
     "output_type": "execute_result"
    }
   ],
   "source": [
    "misColumns = pd.DataFrame( df.count(),columns=['cnt'])\n",
    "misColumns[misColumns['cnt']<len(df)]"
   ]
  },
  {
   "cell_type": "markdown",
   "metadata": {},
   "source": [
    "Признаки ['first_blood_time', 'first_blood_team', 'first_blood_player1',\n",
    "       'first_blood_player2', 'radiant_bottle_time', 'radiant_courier_time',\n",
    "       'radiant_flying_courier_time', 'radiant_first_ward_time',\n",
    "       'dire_bottle_time', 'dire_courier_time', 'dire_flying_courier_time',\n"
    "       ] имеют пропущенные значения. Это может быть связано с тем, что события отвечающие этим колонкам не произошли в течении первых 5 минут. Например, пустое значение в поле 'first_blood_time' означает, что никто не умер в течении 5 минут. А пустое значение в поле 'radiant_bottle_time' означет, что коианда \"светлой стороны\" не приобрела предмет \"бутылка\" в течении первых 5 минут игры."
   ]
  },
  {
   "cell_type": "markdown",
   "metadata": {},
   "source": [
    "# удаляем, ненужные столбцы, заменяем пропущенные значения на 0"
   ]
  },
  {
   "cell_type": "code",
   "execution_count": 234,
   "metadata": {
    "collapsed": false
   },
   "outputs": [],
   "source": [
    "df.drop(['match_id'],axis = 1,inplace=True)\n",
    "\n",
    "futureColumns = ['duration','radiant_win', 'tower_status_radiant', 'tower_status_dire',\n",
    "                   'barracks_status_radiant', 'barracks_status_dire']\n",
    "\n",
    "dfBoost = df.drop(futureColumns,axis = 1)\n",
    "dfBoost.fillna(0,inplace = True)\n",
    "\n",
    "Xboost = dfBoost.values\n",
    "y = df['radiant_win'].values"
   ]
  },
  {
   "cell_type": "markdown",
   "metadata": {},
   "source": [
    "'radiant_win' - столбец, содержащий целевую переменную"
   ]
  },
  {
   "cell_type": "markdown",
   "metadata": {},
   "source": [
    "# Проводим кросс-валидацию для градиентного бустинга"
   ]
  },
  {
   "cell_type": "code",
   "execution_count": 235,
   "metadata": {
    "collapsed": true
   },
   "outputs": [],
   "source": [
    "kf = KFold(n= len(y),n_folds=5,random_state=1,shuffle=True)"
   ]
  },
  {
   "cell_type": "code",
   "execution_count": 236,
   "metadata": {
    "collapsed": false
   },
   "outputs": [],
   "source": [
    "ansBoost = {'tree_size':[],'val':[], 'time' : []}\n",
    "for i in range(10,31,10):\n",
    "    ansBoost['tree_size'].append(i)\n",
    "    start_time = datetime.datetime.now()\n",
    "    ansBoost['val'].append(cross_val_score(estimator=GradientBoostingClassifier(n_estimators=i,random_state=1),scoring='roc_auc',X=Xboost,y=y,cv=kf).mean())\n",
    "    ansBoost['time'].append(datetime.datetime.now() - start_time)\n",
    "ansBoostDF = pd.DataFrame(ansBoost)"
   ]
  },
  {
   "cell_type": "code",
   "execution_count": 237,
   "metadata": {
    "collapsed": false
   },
   "outputs": [
    {
     "data": {
      "text/html": [
       "<div>\n",
       "<table border=\"1\" class=\"dataframe\">\n",
       "  <thead>\n",
       "    <tr style=\"text-align: right;\">\n",
       "      <th></th>\n",
       "      <th>time</th>\n",
       "      <th>tree_size</th>\n",
       "      <th>val</th>\n",
       "    </tr>\n",
       "  </thead>\n",
       "  <tbody>\n",
       "    <tr>\n",
       "      <th>0</th>\n",
       "      <td>00:01:01.687300</td>\n",
       "      <td>10</td>\n",
       "      <td>0.664833</td>\n",
       "    </tr>\n",
       "    <tr>\n",
       "      <th>1</th>\n",
       "      <td>00:01:25.575568</td>\n",
       "      <td>20</td>\n",
       "      <td>0.682114</td>\n",
       "    </tr>\n",
       "    <tr>\n",
       "      <th>2</th>\n",
       "      <td>00:02:34.672727</td>\n",
       "      <td>30</td>\n",
       "      <td>0.689695</td>\n",
       "    </tr>\n",
       "  </tbody>\n",
       "</table>\n",
       "</div>"
      ],
      "text/plain": [
       "             time  tree_size       val\n",
       "0 00:01:01.687300         10  0.664833\n",
       "1 00:01:25.575568         20  0.682114\n",
       "2 00:02:34.672727         30  0.689695"
      ]
     },
     "execution_count": 237,
     "metadata": {},
     "output_type": "execute_result"
    }
   ],
   "source": [
    "ansBoostDF"
   ]
  },
  {
   "cell_type": "markdown",
   "metadata": {},
   "source": [
    "кросс-валидация для градиентного бустинга с 30 деревьями длилась 2 минуты 34 секунды"
   ]
  },
  {
   "cell_type": "markdown",
   "metadata": {},
   "source": [
    "Качество моделей с 20 и 30 деревьями отличается очень слабо. Скорее всего при еще большем увеличении числа деревьев, качество если и улучшится, то совсем незначительно. Зато заметно возрастет время обучения можели. Поэтому, нет смысла увеличивать число деревьев."
   ]
  },
  {
   "cell_type": "markdown",
   "metadata": {},
   "source": [
    "# Проводим кросс-валидацию для логистической регрессии"
   ]
  },
  {
   "cell_type": "code",
   "execution_count": 238,
   "metadata": {
    "collapsed": true
   },
   "outputs": [],
   "source": [
    "standard_scaler = StandardScaler()\n",
    "X_s = standard_scaler.fit_transform(Xboost)"
   ]
  },
  {
   "cell_type": "code",
   "execution_count": 239,
   "metadata": {
    "collapsed": false
   },
   "outputs": [],
   "source": [
    "ansLR = {'C':[],'val':[], 'time' : []}\n",
    "grid = np.power(10.0, np.arange(-3, 2))\n",
    "for i in grid:\n",
    "    ansLR['C'].append(i)\n",
    "    start_time = datetime.datetime.now()\n",
    "    ansLR['val'].append(cross_val_score(estimator=LogisticRegression(C=i,random_state=1),scoring='roc_auc',X=X_s,y=y,cv=kf).mean())\n",
    "    ansLR['time'].append(datetime.datetime.now() - start_time)\n",
    "ansLRDF = pd.DataFrame(ansLR)"
   ]
  },
  {
   "cell_type": "code",
   "execution_count": 240,
   "metadata": {
    "collapsed": false
   },
   "outputs": [
    {
     "data": {
      "text/html": [
       "<div>\n",
       "<table border=\"1\" class=\"dataframe\">\n",
       "  <thead>\n",
       "    <tr style=\"text-align: right;\">\n",
       "      <th></th>\n",
       "      <th>C</th>\n",
       "      <th>time</th>\n",
       "      <th>val</th>\n",
       "    </tr>\n",
       "  </thead>\n",
       "  <tbody>\n",
       "    <tr>\n",
       "      <th>0</th>\n",
       "      <td>0.001</td>\n",
       "      <td>00:00:07.068840</td>\n",
       "      <td>0.716210</td>\n",
       "    </tr>\n",
       "    <tr>\n",
       "      <th>1</th>\n",
       "      <td>0.010</td>\n",
       "      <td>00:00:09.309602</td>\n",
       "      <td>0.716376</td>\n",
       "    </tr>\n",
       "    <tr>\n",
       "      <th>2</th>\n",
       "      <td>0.100</td>\n",
       "      <td>00:00:09.907314</td>\n",
       "      <td>0.716351</td>\n",
       "    </tr>\n",
       "    <tr>\n",
       "      <th>3</th>\n",
       "      <td>1.000</td>\n",
       "      <td>00:00:10.119477</td>\n",
       "      <td>0.716347</td>\n",
       "    </tr>\n",
       "    <tr>\n",
       "      <th>4</th>\n",
       "      <td>10.000</td>\n",
       "      <td>00:00:09.947302</td>\n",
       "      <td>0.716347</td>\n",
       "    </tr>\n",
       "  </tbody>\n",
       "</table>\n",
       "</div>"
      ],
      "text/plain": [
       "        C            time       val\n",
       "0   0.001 00:00:07.068840  0.716210\n",
       "1   0.010 00:00:09.309602  0.716376\n",
       "2   0.100 00:00:09.907314  0.716351\n",
       "3   1.000 00:00:10.119477  0.716347\n",
       "4  10.000 00:00:09.947302  0.716347"
      ]
     },
     "execution_count": 240,
     "metadata": {},
     "output_type": "execute_result"
    }
   ],
   "source": [
    "ansLRDF"
   ]
  },
  {
   "cell_type": "markdown",
   "metadata": {},
   "source": [
    "При значении параметра С = 0.1 получаем качество модели = 0.716, что лучше чем у градиентного бустинга. Можно объяснить это \"небрежной\" заменой пропущенных значений на 0, что не ухудшает регрессию и немного \"мешает\" бустингу. Также ему мешают столбцы с категориальными переменными. Регрессия обучается намного быстрее. Это объясняется, сложностью бустинга и относительной простотой регрессии."
   ]
  },
  {
   "cell_type": "markdown",
   "metadata": {},
   "source": [
    "# Проводим кросс-валидацию для логистической регрессии для данных без категориальных переменных"
   ]
  },
  {
   "cell_type": "code",
   "execution_count": 241,
   "metadata": {
    "collapsed": false
   },
   "outputs": [],
   "source": [
    "categoricalColumns = ['lobby_type', 'r1_hero', 'r2_hero', 'r3_hero', 'r4_hero', 'r5_hero','d1_hero', 'd2_hero'\n",
    "                     , 'd3_hero', 'd4_hero', 'd5_hero']"
   ]
  },
  {
   "cell_type": "code",
   "execution_count": 242,
   "metadata": {
    "collapsed": false
   },
   "outputs": [],
   "source": [
    "dfLR1 = dfBoost.drop(categoricalColumns,axis=1)\n",
    "\n",
    "X_LR1 = dfLR1.values"
   ]
  },
  {
   "cell_type": "code",
   "execution_count": 243,
   "metadata": {
    "collapsed": false
   },
   "outputs": [],
   "source": [
    "standard_scaler_LR1 = StandardScaler()\n",
    "X_s_LR1 = standard_scaler_LR1.fit_transform(X_LR1)"
   ]
  },
  {
   "cell_type": "code",
   "execution_count": 244,
   "metadata": {
    "collapsed": true
   },
   "outputs": [],
   "source": [
    "ans_LR1 = {'C':[],'val':[], 'time' : []}\n",
    "grid = np.power(10.0, np.arange(-3, 2))\n",
    "for i in grid:\n",
    "    ans_LR1['C'].append(i)\n",
    "    start_time = datetime.datetime.now()\n",
    "    ans_LR1['val'].append(cross_val_score(estimator=LogisticRegression(C=i,random_state=1),scoring='roc_auc',X=X_s_LR1,y=y,cv=kf).mean())\n",
    "    ans_LR1['time'].append(datetime.datetime.now() - start_time)\n",
    "ans_LR1DF = pd.DataFrame(ans_LR1)"
   ]
  },
  {
   "cell_type": "code",
   "execution_count": 245,
   "metadata": {
    "collapsed": false
   },
   "outputs": [
    {
     "data": {
      "text/html": [
       "<div>\n",
       "<table border=\"1\" class=\"dataframe\">\n",
       "  <thead>\n",
       "    <tr style=\"text-align: right;\">\n",
       "      <th></th>\n",
       "      <th>C</th>\n",
       "      <th>time</th>\n",
       "      <th>val</th>\n",
       "    </tr>\n",
       "  </thead>\n",
       "  <tbody>\n",
       "    <tr>\n",
       "      <th>0</th>\n",
       "      <td>0.001</td>\n",
       "      <td>00:00:06.233614</td>\n",
       "      <td>0.716233</td>\n",
       "    </tr>\n",
       "    <tr>\n",
       "      <th>1</th>\n",
       "      <td>0.010</td>\n",
       "      <td>00:00:08.490752</td>\n",
       "      <td>0.716409</td>\n",
       "    </tr>\n",
       "    <tr>\n",
       "      <th>2</th>\n",
       "      <td>0.100</td>\n",
       "      <td>00:00:09.047715</td>\n",
       "      <td>0.716384</td>\n",
       "    </tr>\n",
       "    <tr>\n",
       "      <th>3</th>\n",
       "      <td>1.000</td>\n",
       "      <td>00:00:09.054518</td>\n",
       "      <td>0.716380</td>\n",
       "    </tr>\n",
       "    <tr>\n",
       "      <th>4</th>\n",
       "      <td>10.000</td>\n",
       "      <td>00:00:09.038940</td>\n",
       "      <td>0.716380</td>\n",
       "    </tr>\n",
       "  </tbody>\n",
       "</table>\n",
       "</div>"
      ],
      "text/plain": [
       "        C            time       val\n",
       "0   0.001 00:00:06.233614  0.716233\n",
       "1   0.010 00:00:08.490752  0.716409\n",
       "2   0.100 00:00:09.047715  0.716384\n",
       "3   1.000 00:00:09.054518  0.716380\n",
       "4  10.000 00:00:09.038940  0.716380"
      ]
     },
     "execution_count": 245,
     "metadata": {},
     "output_type": "execute_result"
    }
   ],
   "source": [
    "ans_LR1DF"
   ]
  },
  {
   "cell_type": "markdown",
   "metadata": {},
   "source": [
    "При удалении категориальных признаков качество регрессии осталось прежним 0.716. Это можно объяснить тем, что у этих переменных, записанных в неправильном для регрессии виде, очень слабая предсказательная сила. Поэтому в первый раз при оптимизации значений параметров регрессии, алгоритм сопоставил им веса близкие к нулю. Соответственно, после удалении этих признаков модель практически не изменилась."
   ]
  },
  {
   "cell_type": "markdown",
   "metadata": {},
   "source": [
    "# Формируем \"мешок слов\", добавляем его к данным и проводим кросс-валидацию для логистической регрессии "
   ]
  },
  {
   "cell_type": "code",
   "execution_count": 246,
   "metadata": {
    "collapsed": false
   },
   "outputs": [],
   "source": [
    "uniqHeroes = heroes['name'].unique().size\n",
    "X_pick = np.zeros((df.shape[0], uniqHeroes))\n",
    "\n",
    "for i, match_id in enumerate(df.index):\n",
    "    for p in range(5):\n",
    "        X_pick[i, df.ix[match_id, 'r%d_hero' % (p+1)]-1] = 1\n",
    "        X_pick[i, df.ix[match_id, 'd%d_hero' % (p+1)]-1] = -1\n",
    "        \n",
    "X_LR2 = np.hstack((X_LR1,X_pick))"
   ]
  },
  {
   "cell_type": "code",
   "execution_count": 263,
   "metadata": {
    "collapsed": false
   },
   "outputs": [
    {
     "data": {
      "text/plain": [
       "112"
      ]
     },
     "execution_count": 263,
     "metadata": {},
     "output_type": "execute_result"
    }
   ],
   "source": [
    "uniqHeroes"
   ]
  },
  {
   "cell_type": "markdown",
   "metadata": {},
   "source": [
    "Всего в игре существует 112 уникальных героев"
   ]
  },
  {
   "cell_type": "code",
   "execution_count": 247,
   "metadata": {
    "collapsed": false
   },
   "outputs": [],
   "source": [
    "standard_scaler_LR2 = StandardScaler()\n",
    "X_s_LR2 = standard_scaler_LR2.fit_transform(X_LR2)"
   ]
  },
  {
   "cell_type": "code",
   "execution_count": 248,
   "metadata": {
    "collapsed": false
   },
   "outputs": [],
   "source": [
    "ans_LR2 = {'C':[],'val':[], 'time' : []}\n",
    "grid = np.power(10.0, np.arange(-3, 2))\n",
    "for i in grid:\n",
    "    ans_LR2['C'].append(i)\n",
    "    start_time = datetime.datetime.now()\n",
    "    ans_LR2['val'].append(cross_val_score(estimator=LogisticRegression(C=i,random_state=1),scoring='roc_auc',X=X_s_LR2,y=y,cv=kf).mean())\n",
    "    ans_LR2['time'].append(datetime.datetime.now() - start_time)\n",
    "anspd_LR2 = pd.DataFrame(ans_LR2)"
   ]
  },
  {
   "cell_type": "code",
   "execution_count": 249,
   "metadata": {
    "collapsed": false
   },
   "outputs": [
    {
     "data": {
      "text/html": [
       "<div>\n",
       "<table border=\"1\" class=\"dataframe\">\n",
       "  <thead>\n",
       "    <tr style=\"text-align: right;\">\n",
       "      <th></th>\n",
       "      <th>C</th>\n",
       "      <th>time</th>\n",
       "      <th>val</th>\n",
       "    </tr>\n",
       "  </thead>\n",
       "  <tbody>\n",
       "    <tr>\n",
       "      <th>0</th>\n",
       "      <td>0.001</td>\n",
       "      <td>00:00:10.960917</td>\n",
       "      <td>0.751601</td>\n",
       "    </tr>\n",
       "    <tr>\n",
       "      <th>1</th>\n",
       "      <td>0.010</td>\n",
       "      <td>00:00:14.700333</td>\n",
       "      <td>0.751905</td>\n",
       "    </tr>\n",
       "    <tr>\n",
       "      <th>2</th>\n",
       "      <td>0.100</td>\n",
       "      <td>00:00:15.138255</td>\n",
       "      <td>0.751862</td>\n",
       "    </tr>\n",
       "    <tr>\n",
       "      <th>3</th>\n",
       "      <td>1.000</td>\n",
       "      <td>00:00:15.209880</td>\n",
       "      <td>0.751856</td>\n",
       "    </tr>\n",
       "    <tr>\n",
       "      <th>4</th>\n",
       "      <td>10.000</td>\n",
       "      <td>00:00:15.534479</td>\n",
       "      <td>0.751855</td>\n",
       "    </tr>\n",
       "  </tbody>\n",
       "</table>\n",
       "</div>"
      ],
      "text/plain": [
       "        C            time       val\n",
       "0   0.001 00:00:10.960917  0.751601\n",
       "1   0.010 00:00:14.700333  0.751905\n",
       "2   0.100 00:00:15.138255  0.751862\n",
       "3   1.000 00:00:15.209880  0.751856\n",
       "4  10.000 00:00:15.534479  0.751855"
      ]
     },
     "execution_count": 249,
     "metadata": {},
     "output_type": "execute_result"
    }
   ],
   "source": [
    "anspd_LR2"
   ]
  },
  {
   "cell_type": "markdown",
   "metadata": {},
   "source": [
    "После добавления \"Мешка слов\" качество модели улучшилось, стало равняться 0.752. Записанные в правильном для регрессии виде, эти переменные имеют хорошую предсказательную силу. Тем самым они улучшили модель."
   ]
  },
  {
   "cell_type": "markdown",
   "metadata": {},
   "source": [
    "# Наилучшее качество достигнуто для последней модели с параметром С = 0.1. Обучаем соответствующую модель и предсказываем вероятность победы для тестовой выборки"
   ]
  },
  {
   "cell_type": "code",
   "execution_count": 250,
   "metadata": {
    "collapsed": false
   },
   "outputs": [
    {
     "data": {
      "text/plain": [
       "LogisticRegression(C=0.1, class_weight=None, dual=False, fit_intercept=True,\n",
       "          intercept_scaling=1, max_iter=100, multi_class='ovr', n_jobs=1,\n",
       "          penalty='l2', random_state=None, solver='liblinear', tol=0.0001,\n",
       "          verbose=0, warm_start=False)"
      ]
     },
     "execution_count": 250,
     "metadata": {},
     "output_type": "execute_result"
    }
   ],
   "source": [
    "clf = LogisticRegression(C=0.1)\n",
    "clf.fit(X_s_LR2,y)"
   ]
  },
  {
   "cell_type": "code",
   "execution_count": 251,
   "metadata": {
    "collapsed": false
   },
   "outputs": [],
   "source": [
    "test_match_id = dftest['match_id'].copy()"
   ]
  },
  {
   "cell_type": "code",
   "execution_count": 252,
   "metadata": {
    "collapsed": false
   },
   "outputs": [],
   "source": [
    "dftestoutp = dftest.drop(['match_id'],axis = 1)\n",
    "dftestoutp.fillna(0,inplace = True)"
   ]
  },
  {
   "cell_type": "code",
   "execution_count": 253,
   "metadata": {
    "collapsed": true
   },
   "outputs": [],
   "source": [
    "uniqHeroes = heroes['name'].unique().size\n",
    "X_pick_test = np.zeros((dftestoutp.shape[0], uniqHeroes))\n",
    "\n",
    "for i, match_id in enumerate(dftestoutp.index):\n",
    "    for p in range(5):\n",
    "        X_pick_test[i, dftestoutp.ix[match_id, 'r%d_hero' % (p+1)]-1] = 1\n",
    "        X_pick_test[i, dftestoutp.ix[match_id, 'd%d_hero' % (p+1)]-1] = -1"
   ]
  },
  {
   "cell_type": "code",
   "execution_count": 254,
   "metadata": {
    "collapsed": false
   },
   "outputs": [],
   "source": [
    "dftestoutp.drop(categoricalColumns,axis=1,inplace=True)"
   ]
  },
  {
   "cell_type": "code",
   "execution_count": 255,
   "metadata": {
    "collapsed": false
   },
   "outputs": [],
   "source": [
    "X_dftest = np.hstack((dftestoutp.values,X_pick_test))"
   ]
  },
  {
   "cell_type": "code",
   "execution_count": 256,
   "metadata": {
    "collapsed": true
   },
   "outputs": [],
   "source": [
    "X_s_dftest = standard_scaler_LR2.transform(X_dftest)"
   ]
  },
  {
   "cell_type": "code",
   "execution_count": 257,
   "metadata": {
    "collapsed": false
   },
   "outputs": [],
   "source": [
    "pred = clf.predict_proba(X_s_dftest)[:, 1]"
   ]
  },
  {
   "cell_type": "code",
   "execution_count": 264,
   "metadata": {
    "collapsed": false
   },
   "outputs": [
    {
     "data": {
      "text/plain": [
       "(0.0084572540009785584, 0.99642263833872202)"
      ]
     },
     "execution_count": 264,
     "metadata": {},
     "output_type": "execute_result"
    }
   ],
   "source": [
    "pred.min(), pred.max()"
   ]
  },
  {
   "cell_type": "markdown",
   "metadata": {},
   "source": [
    "Минимальное значение - 0.0085, максимальное - 0.9964. Значения очень близкие к 0 и 1 соответственно."
   ]
  },
  {
   "cell_type": "code",
   "execution_count": 258,
   "metadata": {
    "collapsed": false
   },
   "outputs": [],
   "source": [
    "test_match_id['res']= pd.DataFrame(np.array([pred]).T)"
   ]
  },
  {
   "cell_type": "code",
   "execution_count": 259,
   "metadata": {
    "collapsed": false
   },
   "outputs": [],
   "source": [
    "outp = pd.DataFrame(test_match_id )\n",
    "outp['radiant_win'] = pd.DataFrame(np.array([pred]).T)"
   ]
  },
  {
   "cell_type": "code",
   "execution_count": 260,
   "metadata": {
    "collapsed": false
   },
   "outputs": [],
   "source": [
    "outp.to_csv('output.csv',index=False)"
   ]
  }
 ],
 "metadata": {
  "kernelspec": {
   "display_name": "Python 3",
   "language": "python",
   "name": "python3"
  },
  "language_info": {
   "codemirror_mode": {
    "name": "ipython",
    "version": 3
   },
   "file_extension": ".py",
   "mimetype": "text/x-python",
   "name": "python",
   "nbconvert_exporter": "python",
   "pygments_lexer": "ipython3",
   "version": "3.4.3"
  }
 },
 "nbformat": 4,
 "nbformat_minor": 0
}
